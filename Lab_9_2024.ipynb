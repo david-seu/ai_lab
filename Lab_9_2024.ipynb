{
 "cells": [
  {
   "attachments": {},
   "cell_type": "markdown",
   "metadata": {},
   "source": [
    "## Lab. 12\n",
    "\n",
    "### Solve the following problem using Genetic Algorithms:\n",
    "\n",
    "\n",
    "Problem: Weighted N-Queen Problem\n",
    "\n",
    "\n",
    "You are given an N×N chessboard, and each cell of the board has an associated weight. Your task is to find a valid placement of N queens such that the total weight of the queens is maximized, and no two queens threaten each other.\n",
    "\n"
   ]
  },
  {
   "attachments": {},
   "cell_type": "markdown",
   "metadata": {},
   "source": [
    "\n",
    "\n",
    "In the traditional N-Queen Problem, the goal is to place N queens on an N×N chessboard in such a way that no two queens threaten each other. In this variation, we introduce weights to the queens and aim to find a placement that maximizes the total weight of the queens while satisfying the constraint of non-threatening positions.\n",
    "\n",
    "\n",
    "Constraints:\n",
    "\n",
    "1. There should be exactly one queen in each row and each column.\n",
    "2. No two queens should be placed in the same diagonal, i.e., they should not threaten each other.\n",
    "3. The placement should maximize the total weight of the queens.\n",
    "\n",
    "\n",
    "Representation:\n",
    "\n",
    "Use a permutation-based representation. Each permutation represents the column position of the queen for each row. \n",
    "\n",
    "For example, if N=4, a valid permutation [2, 4, 1, 3] indicates that the queen in the first row is placed in column 2, the queen in the second row is placed in column 4, and so on.\n",
    "\n",
    "\n",
    "Genetic Algorithm Steps:\n",
    "\n",
    "1. *Initialization*: Generate an initial population of permutations randomly.\n",
    "\n",
    "2. *Fitness Evaluation*: Evaluate the fitness of each permutation by calculating the total weight of the queens while considering the non-threatening positions.\n",
    "\n",
    "3. *Selection*: Select a subset of permutations from the population based on their fitness, using selection techniques like tournament selection or roulette wheel selection.\n",
    "\n",
    "4. *Crossover*: Perform crossover (recombination) on the selected permutations to create new offspring permutations.\n",
    "\n",
    "5. *Mutation*: Introduce random changes (mutations) in the offspring permutations to maintain diversity in the population.\n",
    "\n",
    "6. *Fitness Evaluation for the new individuals*: Evaluate the fitness of the new population.\n",
    "\n",
    "7. *Form the new population*: Select the surviving individuals based on scores, with chances direct proportional with their performance.\n",
    "\n",
    "8. Repeat steps 3-7 for a certain number of generations or until a termination condition is met (e.g., a maximum number of iterations or a satisfactory solution is found).\n",
    "\n",
    "\n",
    "9. *Termination*: Return the best-performing individual (permutation) found as the solution to the problem.\n",
    "\n",
    "Note: The fitness function used in this problem should calculate the total weight of the queens based on the positions specified by the permutation. Additionally, the fitness function should penalize solutions that violate the non-threatening constraint by assigning a lower fitness score to such permutations."
   ]
  },
  {
   "cell_type": "code",
   "execution_count": 5,
   "metadata": {
    "collapsed": false,
    "jupyter": {
     "outputs_hidden": false
    }
   },
   "outputs": [],
   "source": [
    "import random\n",
    "\n",
    "def initialize_permutation(n):\n",
    "    return random.sample(range(1, n+1), n)\n",
    "\n",
    "def initialize_population(population_size, n):\n",
    "    return [initialize_permutation(n) for _ in range(population_size)]"
   ]
  },
  {
   "cell_type": "code",
   "execution_count": 7,
   "metadata": {
    "collapsed": false,
    "jupyter": {
     "outputs_hidden": false
    }
   },
   "outputs": [
    {
     "name": "stdout",
     "output_type": "stream",
     "text": [
      "[[4, 1, 5, 2, 3], [4, 5, 3, 1, 2], [2, 1, 4, 3, 5], [4, 2, 3, 1, 5], [4, 2, 5, 3, 1], [2, 5, 3, 4, 1], [5, 4, 2, 1, 3], [5, 2, 1, 4, 3], [5, 2, 4, 3, 1], [5, 4, 1, 3, 2]]\n"
     ]
    }
   ],
   "source": [
    "population_size = 10\n",
    "n = 5\n",
    "population = initialize_population(population_size, n)\n",
    "print(population)"
   ]
  },
  {
   "cell_type": "code",
   "execution_count": 9,
   "metadata": {
    "collapsed": false,
    "jupyter": {
     "outputs_hidden": false
    }
   },
   "outputs": [],
   "source": [
    "def fitness(individual, weights):\n",
    "    n = len(individual)\n",
    "    total_weight = 0\n",
    "    penalty = 0\n",
    "\n",
    "    for i in range(n):\n",
    "        total_weight += weights[i][individual[i]-1]\n",
    "\n",
    "    for i in range(n):\n",
    "        for j in range(i+1, n):\n",
    "            # Check if queens are in the same diagonal\n",
    "            if abs(individual[i] - individual[j]) == abs(i - j):\n",
    "                penalty += 1\n",
    "\n",
    "    for i in range(n):\n",
    "        for j in range(i+1, n):\n",
    "            if individual[i] == individual[j]:\n",
    "                penalty += 1\n",
    "\n",
    "    # Subtract penalty from total weight\n",
    "    fitness_score = total_weight - penalty\n",
    "\n",
    "    return fitness_score"
   ]
  },
  {
   "cell_type": "code",
   "execution_count": 12,
   "metadata": {},
   "outputs": [
    {
     "name": "stdout",
     "output_type": "stream",
     "text": [
      "11\n",
      "4\n"
     ]
    }
   ],
   "source": [
    "weights = [[1, 2, 3, 4, 5], [5, 4, 3, 2, 1], [1, 3, 5, 2, 4], [4, 2, 5, 3, 1], [3, 5, 2, 4, 1]]\n",
    "individual = [2, 4, 1, 3, 5]\n",
    "fitness_score = fitness(individual, weights)\n",
    "print(fitness_score)\n",
    "individual = [1, 2, 3, 4, 5]\n",
    "fitness_score = fitness(individual, weights)\n",
    "print(fitness_score)"
   ]
  },
  {
   "cell_type": "code",
   "execution_count": 13,
   "outputs": [],
   "source": [
    "def evaluate_fitness(population, weights):\n",
    "    return [fitness(individual, weights) for individual in population]"
   ],
   "metadata": {
    "collapsed": false
   }
  },
  {
   "cell_type": "code",
   "execution_count": 15,
   "outputs": [
    {
     "name": "stdout",
     "output_type": "stream",
     "text": [
      "[15, 15, 11, 14, 20, 12, 14, 11, 17, 16]\n"
     ]
    }
   ],
   "source": [
    "fitness_scores = evaluate_fitness(population, weights)\n",
    "print(fitness_scores)"
   ],
   "metadata": {
    "collapsed": false
   }
  },
  {
   "cell_type": "code",
   "execution_count": 16,
   "outputs": [],
   "source": [
    "def select_parents(population, fitness_scores, num_parents, k=2):\n",
    "    parents = []\n",
    "    for _ in range(num_parents):\n",
    "        # Select k individuals for the tournament\n",
    "        tournament_individuals = random.choices(population, k=k)\n",
    "        # Get their fitness scores\n",
    "        tournament_scores = [fitness_scores[population.index(individual)] for individual in tournament_individuals]\n",
    "        # Select the individual with the highest fitness\n",
    "        winner = tournament_individuals[tournament_scores.index(max(tournament_scores))]\n",
    "        # Add the winner to the parents list\n",
    "        parents.append(winner)\n",
    "    return parents"
   ],
   "metadata": {
    "collapsed": false
   }
  },
  {
   "cell_type": "code",
   "execution_count": 18,
   "outputs": [
    {
     "name": "stdout",
     "output_type": "stream",
     "text": [
      "[[5, 4, 2, 1, 3], [4, 1, 5, 2, 3]]\n"
     ]
    }
   ],
   "source": [
    "num_parents = 2\n",
    "parents = select_parents(population, fitness_scores, num_parents)\n",
    "print(parents)"
   ],
   "metadata": {
    "collapsed": false
   }
  },
  {
   "cell_type": "code",
   "execution_count": 19,
   "outputs": [],
   "source": [
    "def crossover(parents, num_offspring):\n",
    "    offspring = []\n",
    "    for _ in range(num_offspring):\n",
    "        # Select two parents randomly\n",
    "        parent1, parent2 = random.sample(parents, 2)\n",
    "        # Select a random crossover point\n",
    "        crossover_point = random.randint(1, len(parent1)-1)\n",
    "        # Perform crossover\n",
    "        child = parent1[:crossover_point] + parent2[crossover_point:]\n",
    "        offspring.append(child)\n",
    "    return offspring"
   ],
   "metadata": {
    "collapsed": false
   }
  },
  {
   "cell_type": "code",
   "execution_count": 20,
   "outputs": [
    {
     "name": "stdout",
     "output_type": "stream",
     "text": [
      "[[5, 1, 5, 2, 3], [5, 4, 2, 2, 3]]\n"
     ]
    }
   ],
   "source": [
    "num_offspring = 2\n",
    "offspring = crossover(parents, num_offspring)\n",
    "print(offspring)"
   ],
   "metadata": {
    "collapsed": false
   }
  },
  {
   "cell_type": "code",
   "execution_count": 21,
   "outputs": [],
   "source": [
    "def mutation(individual, mutation_rate):\n",
    "    n = len(individual)\n",
    "    mutated_individual = individual.copy()\n",
    "    for i in range(n):\n",
    "        if random.random() < mutation_rate:\n",
    "            # Generate a random new position for the queen\n",
    "            new_position = random.randint(1, n)\n",
    "            mutated_individual[i] = new_position\n",
    "    return mutated_individual"
   ],
   "metadata": {
    "collapsed": false
   }
  },
  {
   "cell_type": "code",
   "execution_count": 27,
   "outputs": [
    {
     "name": "stdout",
     "output_type": "stream",
     "text": [
      "[2, 2, 1, 2, 5]\n"
     ]
    }
   ],
   "source": [
    "mutation_rate = 0.1\n",
    "individual = [2, 4, 1, 3, 5]\n",
    "mutated_individual = mutation(individual, mutation_rate)\n",
    "print(mutated_individual)"
   ],
   "metadata": {
    "collapsed": false
   }
  },
  {
   "cell_type": "code",
   "execution_count": 29,
   "outputs": [],
   "source": [
    "def select_new_population(population, fitness_scores, num_survivors):\n",
    "    # Sort the population based on fitness scores\n",
    "    sorted_population = [x for _, x in sorted(zip(fitness_scores, population), key=lambda pair: pair[0], reverse=True)]\n",
    "    # Select the top individuals as survivors\n",
    "    new_population = sorted_population[:num_survivors]\n",
    "    return new_population"
   ],
   "metadata": {
    "collapsed": false
   }
  },
  {
   "cell_type": "code",
   "execution_count": 32,
   "outputs": [],
   "source": [
    "def genetic_algorithm(population_size, n, weights, num_generations, num_parents=2, num_offspring=2, mutation_rate=0.1):\n",
    "    # Initialize the population\n",
    "    population = initialize_population(population_size, n)\n",
    "    for _ in range(num_generations):\n",
    "        # Evaluate fitness of the population\n",
    "        fitness_scores = evaluate_fitness(population, weights)\n",
    "        # Select parents\n",
    "        parents = select_parents(population, fitness_scores, num_parents)\n",
    "        # Perform crossover\n",
    "        offspring = crossover(parents, num_offspring)\n",
    "        # Perform mutation\n",
    "        mutated_offspring = [mutation(child, mutation_rate) for child in offspring]\n",
    "        # Evaluate fitness of the new population\n",
    "        offspring_fitness = evaluate_fitness(mutated_offspring, weights)\n",
    "        # Combine the old population and the new population\n",
    "        combined_population = population + mutated_offspring\n",
    "        combined_fitness = fitness_scores + offspring_fitness\n",
    "        # Select the new population\n",
    "        population = select_new_population(combined_population, combined_fitness, population_size)\n",
    "    return population"
   ],
   "metadata": {
    "collapsed": false
   }
  },
  {
   "cell_type": "code",
   "execution_count": 35,
   "outputs": [],
   "source": [
    "def select_best_individual(population, weights):\n",
    "    fitness_scores = evaluate_fitness(population, weights)\n",
    "    best_individual = population[fitness_scores.index(max(fitness_scores))]\n",
    "    return best_individual, max(fitness_scores)"
   ],
   "metadata": {
    "collapsed": false
   }
  },
  {
   "cell_type": "code",
   "execution_count": 36,
   "outputs": [],
   "source": [
    "population_size = 10\n",
    "n = 5\n",
    "weights = [[1, 2, 3, 4, 5], [5, 4, 3, 2, 1], [1, 3, 5, 2, 4], [4, 2, 5, 3, 1], [3, 5, 2, 4, 1]]\n",
    "num_generations = 100\n",
    "population = genetic_algorithm(population_size, n, weights, num_generations)"
   ],
   "metadata": {
    "collapsed": false
   }
  },
  {
   "cell_type": "code",
   "execution_count": 37,
   "outputs": [
    {
     "name": "stdout",
     "output_type": "stream",
     "text": [
      "[5, 1, 3, 4, 2] 21\n"
     ]
    }
   ],
   "source": [
    "best_individual, best_fitness = select_best_individual(population, weights)\n",
    "print(best_individual, best_fitness)\n"
   ],
   "metadata": {
    "collapsed": false
   }
  }
 ],
 "metadata": {
  "kernel_info": {
   "name": "python"
  },
  "kernelspec": {
   "display_name": "Python 3 (ipykernel)",
   "language": "python",
   "name": "python3"
  },
  "language_info": {
   "codemirror_mode": {
    "name": "ipython",
    "version": 3
   },
   "file_extension": ".py",
   "mimetype": "text/x-python",
   "name": "python",
   "nbconvert_exporter": "python",
   "pygments_lexer": "ipython3",
   "version": "3.8.18"
  },
  "nteract": {
   "version": "nteract-front-end@1.0.0"
  }
 },
 "nbformat": 4,
 "nbformat_minor": 4
}
