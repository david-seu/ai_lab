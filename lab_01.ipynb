{
 "cells": [
  {
   "cell_type": "code",
   "execution_count": 3,
   "outputs": [
    {
     "name": "stdout",
     "output_type": "stream",
     "text": [
      "Choice is: 1\n",
      "Choice is: 2\n"
     ]
    }
   ],
   "source": [
    "import numpy as np\n",
    "\n",
    "def spinner(probabilityDistribution):\n",
    "    if not sum(probabilityDistribution) == 1:\n",
    "        raise ValueError(\"The sum of the probabilities must be 1\")\n",
    "    return np.random.choice([i for i in range(len(probabilityDistribution))], p=probabilityDistribution)\n",
    "\n",
    "def spinner_grade(grades):\n",
    "    if not sum(grades) == 360:\n",
    "        raise ValueError(\"The sum of the grades must be 360\")\n",
    "    probabilityDistribution = []\n",
    "    for i in range(len(grades)):\n",
    "        probabilityDistribution.append(grades[i]/360)\n",
    "    return np.random.choice([i for i in range(len(probabilityDistribution))], p=probabilityDistribution)\n",
    "\n",
    "\n",
    "probabilityDistribution = [0.1, 0.2, 0.3, 0.4]\n",
    "print(\"Choice is: \" + str(spinner(probabilityDistribution)))\n",
    "grades = [90, 60, 120, 90]\n",
    "print(\"Choice is: \" + str(spinner_grade(grades)))"
   ],
   "metadata": {
    "collapsed": false
   }
  },
  {
   "cell_type": "code",
   "execution_count": 4,
   "outputs": [
    {
     "name": "stdout",
     "output_type": "stream",
     "text": [
      "The probability that a ball falls inside the pipe is approximately: 0.282157\n",
      "The mathematical probability that a ball falls inside the pipe is approximately: 0.2827433388230814\n"
     ]
    }
   ],
   "source": [
    "import numpy as np\n",
    "\n",
    "def monte_carlo_simulation(R, l, n_points):\n",
    "    x = np.random.uniform(-l/2, l/2, n_points)\n",
    "    y = np.random.uniform(-l/2, l/2, n_points)\n",
    "\n",
    "    distances = np.sqrt(x**2 + y**2)\n",
    "\n",
    "    inside_pipe = distances <= R\n",
    "\n",
    "    probability_sim = inside_pipe.mean()\n",
    "\n",
    "    return probability_sim\n",
    "\n",
    "R = 30\n",
    "l = 100\n",
    "n_points = 1000000\n",
    "probability_sim = monte_carlo_simulation(R, l, n_points)\n",
    "print(\"The probability that a ball falls inside the pipe is approximately: \" + str(probability_sim))\n",
    "print(\"The mathematical probability that a ball falls inside the pipe is approximately: \" + str(np.pi * R**2 / l**2))"
   ],
   "metadata": {
    "collapsed": false
   }
  },
  {
   "cell_type": "code",
   "execution_count": null,
   "outputs": [],
   "source": [],
   "metadata": {
    "collapsed": false
   }
  }
 ],
 "metadata": {
  "kernelspec": {
   "display_name": "Python 3",
   "language": "python",
   "name": "python3"
  },
  "language_info": {
   "codemirror_mode": {
    "name": "ipython",
    "version": 2
   },
   "file_extension": ".py",
   "mimetype": "text/x-python",
   "name": "python",
   "nbconvert_exporter": "python",
   "pygments_lexer": "ipython2",
   "version": "2.7.6"
  }
 },
 "nbformat": 4,
 "nbformat_minor": 0
}
